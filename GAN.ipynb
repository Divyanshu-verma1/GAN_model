{
  "nbformat": 4,
  "nbformat_minor": 0,
  "metadata": {
    "colab": {
      "provenance": []
    },
    "kernelspec": {
      "name": "python3",
      "display_name": "Python 3"
    },
    "language_info": {
      "name": "python"
    }
  },
  "cells": [
    {
      "cell_type": "code",
      "execution_count": null,
      "metadata": {
        "id": "ImTrtu8bkR7-"
      },
      "outputs": [],
      "source": [
        "# example of training the discriminator model on real and random mnist images\n",
        "from numpy import expand_dims\n",
        "from numpy import ones\n",
        "from numpy import zeros\n",
        "from numpy.random import rand\n",
        "from numpy.random import randint\n",
        "from keras.datasets.mnist import load_data\n",
        "from keras.optimizers import Adam\n",
        "from keras.models import Sequential\n",
        "from keras.layers import Dense\n",
        "from keras.layers import Conv2D\n",
        "from keras.layers import Flatten\n",
        "from keras.layers import Dropout\n",
        "from keras.layers import LeakyReLU"
      ]
    },
    {
      "cell_type": "code",
      "source": [
        "# define the standalone discriminator model\n",
        "def define_discriminator(in_shape=(28,28,1)):\n",
        "  model = Sequential()\n",
        "  model.add(Conv2D(64, (3,3), strides=(2, 2), padding='same', input_shape=in_shape))\n",
        "  model.add(LeakyReLU(alpha=0.2))\n",
        "  model.add(Dropout(0.4))\n",
        "  model.add(Conv2D(64, (3,3), strides=(2, 2), padding='same'))\n",
        "  model.add(LeakyReLU(alpha=0.2))\n",
        "  model.add(Dropout(0.4))\n",
        "  model.add(Flatten())\n",
        "  model.add(Dense(1, activation='sigmoid'))\n",
        "  # compile model\n",
        "  opt = Adam(lr=0.0002, beta_1=0.5)\n",
        "  model.compile(loss='binary_crossentropy', optimizer=opt, metrics=['accuracy'])\n",
        "  return model"
      ],
      "metadata": {
        "id": "7UyU1UsLkZZz"
      },
      "execution_count": null,
      "outputs": []
    },
    {
      "cell_type": "code",
      "source": [
        "# load and prepare mnist training images\n",
        "def load_real_samples():\n",
        "  # load mnist dataset\n",
        "  (trainX, _), (_, _) = load_data()\n",
        "  # expand to 3d, e.g. add channels dimension\n",
        "  X = expand_dims(trainX, axis=-1)\n",
        "  # convert from unsigned ints to floats\n",
        "  X = X.astype('float32')\n",
        "  # scale from [0,255] to [0,1]\n",
        "  X = X / 255.0\n",
        "  return X"
      ],
      "metadata": {
        "id": "kP8N06SrkcwU"
      },
      "execution_count": null,
      "outputs": []
    },
    {
      "cell_type": "code",
      "source": [
        "# select real samples\n",
        "def generate_real_samples(dataset, n_samples):\n",
        "  # choose random instances\n",
        "  ix = randint(0, dataset.shape[0], n_samples)\n",
        "  # retrieve selected images\n",
        "  X = dataset[ix]\n",
        "  # generate 'real' class labels (1)\n",
        "  y = ones((n_samples, 1))\n",
        "  return X, y"
      ],
      "metadata": {
        "id": "B6gDmNdSkiZj"
      },
      "execution_count": null,
      "outputs": []
    },
    {
      "cell_type": "code",
      "source": [
        "# generate n fake samples with class labels\n",
        "def generate_fake_samples(n_samples):\n",
        "  # generate uniform random numbers in [0,1]\n",
        "  X = rand(28 * 28 * n_samples)\n",
        "  # reshape into a batch of grayscale images\n",
        "  X = X.reshape((n_samples, 28, 28, 1))\n",
        "  # generate 'fake' class labels (0)\n",
        "  y = zeros((n_samples, 1))\n",
        "  return X, y"
      ],
      "metadata": {
        "id": "YJACSOZrktr0"
      },
      "execution_count": null,
      "outputs": []
    },
    {
      "cell_type": "code",
      "source": [
        "# train the discriminator model\n",
        "def train_discriminator(model, dataset, n_iter=100, n_batch=256):\n",
        "  half_batch = int(n_batch / 2)\n",
        "  # manually enumerate epochs\n",
        "  for i in range(n_iter):\n",
        "    # get randomly selected 'real' samples\n",
        "    X_real, y_real = generate_real_samples(dataset, half_batch)\n",
        "    # update discriminator on real samples\n",
        "    _, real_acc = model.train_on_batch(X_real, y_real)\n",
        "    # generate 'fake' examples\n",
        "    X_fake, y_fake = generate_fake_samples(half_batch)\n",
        "    # update discriminator on fake samples\n",
        "    _, fake_acc = model.train_on_batch(X_fake, y_fake)\n",
        "    # summarize performance\n",
        "    print('>%d real=%.0f%% fake=%.0f%%' % (i+1, real_acc*100, fake_acc*100))"
      ],
      "metadata": {
        "id": "ER1CgeobkyHN"
      },
      "execution_count": null,
      "outputs": []
    },
    {
      "cell_type": "code",
      "source": [
        "# define the discriminator model\n",
        "model = define_discriminator()\n",
        "# load image data\n",
        "dataset = load_real_samples()\n",
        "# fit the model\n",
        "train_discriminator(model, dataset)"
      ],
      "metadata": {
        "colab": {
          "base_uri": "https://localhost:8080/"
        },
        "id": "TpWEWWbKk4yS",
        "outputId": "b18a3316-5d1c-4ddf-d011-64cfdbf9ae8c"
      },
      "execution_count": null,
      "outputs": [
        {
          "output_type": "stream",
          "name": "stdout",
          "text": [
            "Downloading data from https://storage.googleapis.com/tensorflow/tf-keras-datasets/mnist.npz\n",
            "    8192/11490434 [..............................] - ETA: 0s"
          ]
        },
        {
          "output_type": "stream",
          "name": "stderr",
          "text": [
            "/usr/local/lib/python3.10/dist-packages/keras/optimizers/legacy/adam.py:117: UserWarning: The `lr` argument is deprecated, use `learning_rate` instead.\n",
            "  super().__init__(name, **kwargs)\n"
          ]
        },
        {
          "output_type": "stream",
          "name": "stdout",
          "text": [
            "11490434/11490434 [==============================] - 0s 0us/step\n",
            ">1 real=56% fake=22%\n",
            ">2 real=76% fake=37%\n",
            ">3 real=69% fake=55%\n",
            ">4 real=70% fake=73%\n",
            ">5 real=58% fake=87%\n",
            ">6 real=66% fake=95%\n",
            ">7 real=63% fake=98%\n",
            ">8 real=67% fake=99%\n",
            ">9 real=55% fake=100%\n",
            ">10 real=56% fake=100%\n",
            ">11 real=62% fake=100%\n",
            ">12 real=63% fake=100%\n",
            ">13 real=58% fake=100%\n",
            ">14 real=66% fake=100%\n",
            ">15 real=56% fake=100%\n",
            ">16 real=58% fake=100%\n",
            ">17 real=66% fake=100%\n",
            ">18 real=66% fake=100%\n",
            ">19 real=63% fake=100%\n",
            ">20 real=73% fake=100%\n",
            ">21 real=77% fake=100%\n",
            ">22 real=76% fake=100%\n",
            ">23 real=84% fake=100%\n",
            ">24 real=86% fake=100%\n",
            ">25 real=89% fake=100%\n",
            ">26 real=91% fake=100%\n",
            ">27 real=91% fake=100%\n",
            ">28 real=91% fake=100%\n",
            ">29 real=97% fake=100%\n",
            ">30 real=93% fake=100%\n",
            ">31 real=95% fake=100%\n",
            ">32 real=98% fake=100%\n",
            ">33 real=98% fake=100%\n",
            ">34 real=100% fake=100%\n",
            ">35 real=99% fake=100%\n",
            ">36 real=98% fake=100%\n",
            ">37 real=100% fake=100%\n",
            ">38 real=100% fake=100%\n",
            ">39 real=100% fake=100%\n",
            ">40 real=100% fake=100%\n",
            ">41 real=99% fake=100%\n",
            ">42 real=100% fake=100%\n",
            ">43 real=99% fake=100%\n",
            ">44 real=100% fake=100%\n",
            ">45 real=99% fake=100%\n",
            ">46 real=100% fake=100%\n",
            ">47 real=100% fake=100%\n",
            ">48 real=100% fake=100%\n",
            ">49 real=100% fake=100%\n",
            ">50 real=100% fake=100%\n",
            ">51 real=100% fake=100%\n",
            ">52 real=100% fake=100%\n",
            ">53 real=100% fake=100%\n",
            ">54 real=100% fake=100%\n",
            ">55 real=100% fake=100%\n",
            ">56 real=100% fake=100%\n",
            ">57 real=100% fake=100%\n",
            ">58 real=100% fake=100%\n",
            ">59 real=100% fake=100%\n",
            ">60 real=100% fake=100%\n",
            ">61 real=100% fake=100%\n",
            ">62 real=100% fake=100%\n",
            ">63 real=100% fake=100%\n",
            ">64 real=100% fake=100%\n",
            ">65 real=100% fake=100%\n",
            ">66 real=100% fake=100%\n",
            ">67 real=100% fake=100%\n",
            ">68 real=100% fake=100%\n",
            ">69 real=100% fake=100%\n",
            ">70 real=100% fake=100%\n",
            ">71 real=100% fake=100%\n",
            ">72 real=100% fake=100%\n",
            ">73 real=100% fake=100%\n",
            ">74 real=100% fake=100%\n",
            ">75 real=100% fake=100%\n",
            ">76 real=100% fake=100%\n",
            ">77 real=100% fake=100%\n",
            ">78 real=100% fake=100%\n",
            ">79 real=100% fake=100%\n",
            ">80 real=100% fake=100%\n",
            ">81 real=100% fake=100%\n",
            ">82 real=100% fake=100%\n",
            ">83 real=100% fake=100%\n",
            ">84 real=100% fake=100%\n",
            ">85 real=100% fake=100%\n",
            ">86 real=100% fake=100%\n",
            ">87 real=100% fake=100%\n",
            ">88 real=100% fake=100%\n",
            ">89 real=100% fake=100%\n",
            ">90 real=100% fake=100%\n",
            ">91 real=100% fake=100%\n",
            ">92 real=100% fake=100%\n",
            ">93 real=100% fake=100%\n",
            ">94 real=100% fake=100%\n",
            ">95 real=100% fake=100%\n",
            ">96 real=100% fake=100%\n",
            ">97 real=100% fake=100%\n",
            ">98 real=100% fake=100%\n",
            ">99 real=100% fake=100%\n",
            ">100 real=100% fake=100%\n"
          ]
        }
      ]
    },
    {
      "cell_type": "code",
      "source": [],
      "metadata": {
        "id": "7O9_bzvVk8UM"
      },
      "execution_count": null,
      "outputs": []
    }
  ]
}